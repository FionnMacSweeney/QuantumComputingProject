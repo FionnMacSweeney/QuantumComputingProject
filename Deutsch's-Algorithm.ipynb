{
 "cells": [
  {
   "attachments": {},
   "cell_type": "markdown",
   "metadata": {},
   "source": [
    "<h1>\n",
    "<b>Quantum Computing and the Deutsch-Jorsza Algorithm</b>\n",
    "</h1>\n",
    "\n"
   ]
  },
  {
   "attachments": {},
   "cell_type": "markdown",
   "metadata": {},
   "source": [
    "<h1>\n",
    "Quantum computing basics / quantum theory\n",
    "</h1>"
   ]
  },
  {
   "attachments": {},
   "cell_type": "markdown",
   "metadata": {},
   "source": [
    "To understand the Deutscu-Jorsza Algorithm, you will first need to have some understanding of the basics of quantum computing and quantum theory. \n",
    "<b>Quantum theory explains the theory of the behaviour of matter and energy on the atomic and subatomic level.</b> <br>\n",
    "The development of quantum theory was improved on a great deal over the 1900s, with input coming from great scientist such as Planck, Einstein, de Broglie and Heisenberg. One major interpretation that really helps to get a bit of a grasp of quantum theory is the Copenhagen Interpretation and the analogy of Schrodinger's Cat. <br>\n",
    "\n",
    "The Copenhagen Interpretation was proposed by Niels Bohr which states that a particle is whatever its is measured to be(such as a wave or particle), but it cannot be assumed to have specific properties or if it even exists, until it is measured.<br>\n",
    "\n",
    "![Alt text](../Pictures/schrodingers_cat.png) <br>\n",
    "A great way to wrap your head around this theory is the somewhat cruel analogy of <b>Schrodinger's Cat</b>. \n",
    "Imagine you have a living cat and harshly put it into a lead box. At this point you know that the cat is still alive as you have just put the cat in. Then imagine you put a vial of poison or cyanide into the box. At this point you cannot be certain if the cat is now alive or dead. Since you are uncertain, the cat is technically in a state of being both alive and dead. This is known as <b>superposition</b>, which you will hear us speak about again. The cat is technically in this state of superposition until someone finally opens the box to observe the cat to see it's fate. This scenario is basically the basis behing quantum physics.\n",
    "\n",
    "\n",
    "Quantum computing is then, an area of computer science that utilizes the principles of quantum theory. Quantum computing uses subatomic particles such as electrons and photons as the building blocks for it's information processing. Specifically, quantum computing uses these particles to represent and manipulate information in the form of quantum bits, or qubits which we will talk about later."
   ]
  },
  {
   "attachments": {},
   "cell_type": "markdown",
   "metadata": {},
   "source": [
    "<h1>\n",
    "Qubits\n",
    "</h1>\n",
    "\n",
    "# Introduction to Qubits\n",
    "\n",
    "In classical computing, information is represented using bits that can take on the values of 0 or 1. However, in quantum computing, we use qubits to represent information. A qubit can also take on the values of 0 or 1, but it can also exist in a superposition of both states.\n",
    "\n",
    "Superposition is a unique quantum mechanical concept, which means that a qubit can exist in a state that is a combination of both 0 and 1. Moreover, qubits can also become entangled, meaning that the state of one qubit can be dependent on the state of another qubit.\n",
    "\n",
    "![Alt text](Pictures/Qubit%20Diagram.png)\n",
    "\n",
    "Entanglement is a powerful property that allows us to perform certain calculations exponentially faster than classical computers. In the following section, we will dive deeper into the properties and behavior of qubits, as well as explore how to manipulate them using quantum gates in a later section."
   ]
  },
  {
   "attachments": {},
   "cell_type": "markdown",
   "metadata": {},
   "source": [
    "# Qubit superpositions\n",
    "\n",
    "One of the most interesting properties of qubits is that they can exist in a superposition of states. In other words, a qubit can be in multiple states at the same time.We can create a qubit in superposition using the qiskit library."
   ]
  },
  {
   "cell_type": "code",
   "execution_count": null,
   "metadata": {},
   "outputs": [],
   "source": [
    "\n"
   ]
  },
  {
   "cell_type": "code",
   "execution_count": 1,
   "metadata": {},
   "outputs": [
    {
     "name": "stdout",
     "output_type": "stream",
     "text": [
      "0.23.2\n"
     ]
    }
   ],
   "source": [
    "import qiskit\n",
    "print(qiskit.__version__)\n"
   ]
  },
  {
   "cell_type": "code",
   "execution_count": 9,
   "metadata": {},
   "outputs": [
    {
     "name": "stdout",
     "output_type": "stream",
     "text": [
      "{'0': 510, '1': 514}\n"
     ]
    },
    {
     "data": {
      "text/html": [
       "<pre style=\"word-wrap: normal;white-space: pre;background: #fff0;line-height: 1.1;font-family: &quot;Courier New&quot;,Courier,monospace\">     ┌───┐┌─┐\n",
       "  q: ┤ H ├┤M├\n",
       "     └───┘└╥┘\n",
       "c: 1/══════╩═\n",
       "           0 </pre>"
      ],
      "text/plain": [
       "     ┌───┐┌─┐\n",
       "  q: ┤ H ├┤M├\n",
       "     └───┘└╥┘\n",
       "c: 1/══════╩═\n",
       "           0 "
      ]
     },
     "execution_count": 9,
     "metadata": {},
     "output_type": "execute_result"
    }
   ],
   "source": [
    "from qiskit import QuantumCircuit, Aer, execute\n",
    "\n",
    "# Create a quantum circuit with one qubit\n",
    "circuit = QuantumCircuit(1, 1)\n",
    "\n",
    "# Apply a Hadamard gate to the qubit to put it in superposition\n",
    "circuit.h(0)\n",
    "\n",
    "# Measure the qubit and store the result in the classical bit\n",
    "circuit.measure(0, 0)\n",
    "\n",
    "# Simulate the circuit using the Aer simulator\n",
    "simulator = Aer.get_backend('qasm_simulator')\n",
    "result = execute(circuit, simulator).result()\n",
    "\n",
    "# Print the measurement result\n",
    "print(result.get_counts(circuit))\n",
    "\n",
    "# Draw the circuit\n",
    "circuit.draw()"
   ]
  },
  {
   "attachments": {},
   "cell_type": "markdown",
   "metadata": {},
   "source": [
    "This code creates a single qubit in a super position state, this is a foundation for many different quantum algorithms and gates"
   ]
  },
  {
   "attachments": {},
   "cell_type": "markdown",
   "metadata": {},
   "source": [
    "<h1>\n",
    "Quantum Gates\n",
    "</h1>"
   ]
  },
  {
   "attachments": {},
   "cell_type": "markdown",
   "metadata": {},
   "source": [
    "<h1>\n",
    "Quantum Circuits\n",
    "</h1>"
   ]
  },
  {
   "attachments": {},
   "cell_type": "markdown",
   "metadata": {},
   "source": [
    "<h1>\n",
    "\n",
    "Deutsch-Josza Algorithm\n",
    "\n",
    "</h1>"
   ]
  },
  {
   "attachments": {},
   "cell_type": "markdown",
   "metadata": {},
   "source": [
    "<h1>\n",
    "Implementation of the Deutsch-Josza Algorithm\n",
    "</h1>"
   ]
  },
  {
   "attachments": {},
   "cell_type": "markdown",
   "metadata": {},
   "source": [
    "<h1>\n",
    "Quantum Limitations\n",
    "</h1>"
   ]
  },
  {
   "cell_type": "code",
   "execution_count": null,
   "metadata": {},
   "outputs": [],
   "source": []
  }
 ],
 "metadata": {
  "kernelspec": {
   "display_name": "base",
   "language": "python",
   "name": "python3"
  },
  "language_info": {
   "codemirror_mode": {
    "name": "ipython",
    "version": 3
   },
   "file_extension": ".py",
   "mimetype": "text/x-python",
   "name": "python",
   "nbconvert_exporter": "python",
   "pygments_lexer": "ipython3",
   "version": "3.9.13"
  },
  "orig_nbformat": 4,
  "vscode": {
   "interpreter": {
    "hash": "a3f2b87e38efaf486180f17fa00c96be107d42846c617209359e9199190a384a"
   }
  }
 },
 "nbformat": 4,
 "nbformat_minor": 2
}
