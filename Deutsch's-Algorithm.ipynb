{
 "cells": [
  {
   "attachments": {},
   "cell_type": "markdown",
   "metadata": {},
   "source": [
    "<h1>\n",
    "<b>Quantum Computing and the Deutsch-Jorsza Algorithm</b>\n",
    "</h1>\n",
    "\n"
   ]
  },
  {
   "attachments": {},
   "cell_type": "markdown",
   "metadata": {},
   "source": [
    "<h1>\n",
    "Quantum theory / Quantum computing basics\n",
    "</h1>"
   ]
  },
  {
   "attachments": {},
   "cell_type": "markdown",
   "metadata": {},
   "source": [
    "To understand the Deutscu-Jorsza Algorithm, you will first need to have some understanding of the basics of quantum computing and quantum theory. \n",
    "<b>Quantum theory explains the theory of the behaviour of matter and energy on the atomic and subatomic level.</b> <br>\n",
    "The development of quantum theory was improved on a great deal over the 1900s, with input coming from great scientist such as Planck, Einstein, de Broglie and Heisenberg. One major interpretation that really helps to get a bit of a grasp of quantum theory is the Copenhagen Interpretation and the analogy of Schrodinger's Cat. <br>\n",
    "\n",
    "The Copenhagen Interpretation was proposed by Niels Bohr which states that a particle is whatever its is measured to be(such as a wave or particle), but it cannot be assumed to have specific properties or if it even exists, until it is measured.<br>\n",
    "![Alt text](Pictures/schrodingers_cat.png) <br>\n",
    "A great way to wrap your head around this theory is the somewhat cruel analogy of <b>Schrodinger's Cat</b>. \n",
    "Imagine you have a living cat and harshly put it into a lead box. At this point you know that the cat is still alive as you have just put the cat in. Then imagine you put a vial of poison or cyanide into the box. At this point you cannot be certain if the cat is now alive or dead. Since you are uncertain, the cat is technically in a state of being both alive and dead. This is known as <b>superposition</b>, which you will hear us speak about again. The cat is technically in this state of superposition until someone finally opens the box to observe the cat to see it's fate. This scenario is basically the basis behing quantum physics.\n",
    "\n",
    "\n",
    "Quantum computing is then, an area of computer science that utilizes the principles of quantum theory. Quantum computing uses subatomic particles such as electrons and photons as the building blocks for it's information processing. Specifically, quantum computing uses these particles to represent and manipulate information in the form of quantum bits, or qubits which we will talk about later. <br>\n",
    "It was discovered that quantum algorithms can be more effective than classical algorithms in solving specific computational problems. Quantum computing has the potential to examine vast numbers of possibilities and identify potential solutions to intricate problems and obstacles.\n",
    "\n"
   ]
  },
  {
   "cell_type": "code",
   "execution_count": 1,
   "metadata": {},
   "outputs": [
    {
     "name": "stdout",
     "output_type": "stream",
     "text": [
      "Requirement already satisfied: qiskit in c:\\users\\fionn\\anaconda3\\lib\\site-packages (0.41.1)\n",
      "Requirement already satisfied: qiskit-ibmq-provider==0.20.1 in c:\\users\\fionn\\anaconda3\\lib\\site-packages (from qiskit) (0.20.1)\n",
      "Requirement already satisfied: qiskit-aer==0.11.2 in c:\\users\\fionn\\anaconda3\\lib\\site-packages (from qiskit) (0.11.2)\n",
      "Requirement already satisfied: qiskit-terra==0.23.2 in c:\\users\\fionn\\anaconda3\\lib\\site-packages (from qiskit) (0.23.2)\n",
      "Requirement already satisfied: scipy>=1.0 in c:\\users\\fionn\\anaconda3\\lib\\site-packages (from qiskit-aer==0.11.2->qiskit) (1.9.1)\n",
      "Requirement already satisfied: numpy>=1.16.3 in c:\\users\\fionn\\anaconda3\\lib\\site-packages (from qiskit-aer==0.11.2->qiskit) (1.21.5)\n",
      "Requirement already satisfied: requests~=2.28.0 in c:\\users\\fionn\\anaconda3\\lib\\site-packages (from qiskit-ibmq-provider==0.20.1->qiskit) (2.28.1)\n",
      "Requirement already satisfied: urllib3~=1.26.0 in c:\\users\\fionn\\anaconda3\\lib\\site-packages (from qiskit-ibmq-provider==0.20.1->qiskit) (1.26.11)\n",
      "Requirement already satisfied: python-dateutil~=2.8.0 in c:\\users\\fionn\\anaconda3\\lib\\site-packages (from qiskit-ibmq-provider==0.20.1->qiskit) (2.8.2)\n",
      "Requirement already satisfied: websocket-client~=1.5.1 in c:\\users\\fionn\\anaconda3\\lib\\site-packages (from qiskit-ibmq-provider==0.20.1->qiskit) (1.5.1)\n",
      "Requirement already satisfied: requests-ntlm~=1.1.0 in c:\\users\\fionn\\anaconda3\\lib\\site-packages (from qiskit-ibmq-provider==0.20.1->qiskit) (1.1.0)\n",
      "Requirement already satisfied: websockets~=10.0 in c:\\users\\fionn\\anaconda3\\lib\\site-packages (from qiskit-ibmq-provider==0.20.1->qiskit) (10.4)\n",
      "Requirement already satisfied: ply>=3.10 in c:\\users\\fionn\\anaconda3\\lib\\site-packages (from qiskit-terra==0.23.2->qiskit) (3.11)\n",
      "Requirement already satisfied: rustworkx>=0.12.0 in c:\\users\\fionn\\anaconda3\\lib\\site-packages (from qiskit-terra==0.23.2->qiskit) (0.12.1)\n",
      "Requirement already satisfied: dill>=0.3 in c:\\users\\fionn\\anaconda3\\lib\\site-packages (from qiskit-terra==0.23.2->qiskit) (0.3.4)\n",
      "Requirement already satisfied: sympy>=1.3 in c:\\users\\fionn\\anaconda3\\lib\\site-packages (from qiskit-terra==0.23.2->qiskit) (1.10.1)\n",
      "Requirement already satisfied: stevedore>=3.0.0 in c:\\users\\fionn\\anaconda3\\lib\\site-packages (from qiskit-terra==0.23.2->qiskit) (5.0.0)\n",
      "Requirement already satisfied: psutil>=5 in c:\\users\\fionn\\anaconda3\\lib\\site-packages (from qiskit-terra==0.23.2->qiskit) (5.9.0)\n",
      "Requirement already satisfied: six>=1.5 in c:\\users\\fionn\\anaconda3\\lib\\site-packages (from python-dateutil~=2.8.0->qiskit-ibmq-provider==0.20.1->qiskit) (1.16.0)\n",
      "Requirement already satisfied: idna<4,>=2.5 in c:\\users\\fionn\\anaconda3\\lib\\site-packages (from requests~=2.28.0->qiskit-ibmq-provider==0.20.1->qiskit) (3.3)\n",
      "Requirement already satisfied: certifi>=2017.4.17 in c:\\users\\fionn\\anaconda3\\lib\\site-packages (from requests~=2.28.0->qiskit-ibmq-provider==0.20.1->qiskit) (2022.9.14)\n",
      "Requirement already satisfied: charset-normalizer<3,>=2 in c:\\users\\fionn\\anaconda3\\lib\\site-packages (from requests~=2.28.0->qiskit-ibmq-provider==0.20.1->qiskit) (2.0.4)\n",
      "Requirement already satisfied: ntlm-auth>=1.0.2 in c:\\users\\fionn\\anaconda3\\lib\\site-packages (from requests-ntlm~=1.1.0->qiskit-ibmq-provider==0.20.1->qiskit) (1.5.0)\n",
      "Requirement already satisfied: cryptography>=1.3 in c:\\users\\fionn\\anaconda3\\lib\\site-packages (from requests-ntlm~=1.1.0->qiskit-ibmq-provider==0.20.1->qiskit) (37.0.1)\n",
      "Requirement already satisfied: pbr!=2.1.0,>=2.0.0 in c:\\users\\fionn\\anaconda3\\lib\\site-packages (from stevedore>=3.0.0->qiskit-terra==0.23.2->qiskit) (5.11.1)\n",
      "Requirement already satisfied: mpmath>=0.19 in c:\\users\\fionn\\anaconda3\\lib\\site-packages (from sympy>=1.3->qiskit-terra==0.23.2->qiskit) (1.2.1)\n",
      "Requirement already satisfied: cffi>=1.12 in c:\\users\\fionn\\anaconda3\\lib\\site-packages (from cryptography>=1.3->requests-ntlm~=1.1.0->qiskit-ibmq-provider==0.20.1->qiskit) (1.15.1)\n",
      "Requirement already satisfied: pycparser in c:\\users\\fionn\\anaconda3\\lib\\site-packages (from cffi>=1.12->cryptography>=1.3->requests-ntlm~=1.1.0->qiskit-ibmq-provider==0.20.1->qiskit) (2.21)\n",
      "Note: you may need to restart the kernel to use updated packages.\n"
     ]
    }
   ],
   "source": [
    "%pip install qiskit"
   ]
  },
  {
   "attachments": {},
   "cell_type": "markdown",
   "metadata": {},
   "source": [
    "<h1>\n",
    "Qubits\n",
    "</h1>"
   ]
  },
  {
   "attachments": {},
   "cell_type": "markdown",
   "metadata": {},
   "source": [
    "**Introduction to Qubits**\n",
    "In classical computing, information is represented using bits that can take on the values of 0 or 1. However, in quantum computing, we use qubits to represent information. A qubit can also take on the values of 0 or 1, but it can also exist in a superposition of both states.\n",
    "\n",
    "Superposition is a unique quantum mechanical concept, which means that a qubit can exist in a state that is a combination of both 0 and 1. Moreover, qubits can also become entangled, meaning that the state of one qubit can be dependent on the state of another qubit."
   ]
  },
  {
   "attachments": {},
   "cell_type": "markdown",
   "metadata": {},
   "source": [
    "![Qubit diagram](Pictures/Qubit_Diagram.png)"
   ]
  },
  {
   "attachments": {},
   "cell_type": "markdown",
   "metadata": {},
   "source": [
    "Entanglement is a powerful property that allows us to perform certain calculations exponentially faster than classical computers. In the following section, we will dive deeper into the properties and behavior of qubits, as well as explore how to manipulate them using quantum gates in a later section."
   ]
  },
  {
   "attachments": {},
   "cell_type": "markdown",
   "metadata": {},
   "source": [
    "<h1>\n",
    "Quantum Gates\n",
    "</h1>"
   ]
  },
  {
   "attachments": {},
   "cell_type": "markdown",
   "metadata": {},
   "source": [
    "<h1>\n",
    "Quantum Circuits\n",
    "</h1>"
   ]
  },
  {
   "attachments": {},
   "cell_type": "markdown",
   "metadata": {},
   "source": [
    "<h1>\n",
    "\n",
    "Deutsch-Josza Algorithm\n",
    "\n",
    "</h1>"
   ]
  },
  {
   "attachments": {},
   "cell_type": "markdown",
   "metadata": {},
   "source": [
    "The first quantum algorithm to outperform the best classical algorithm was the Deustch-Jozsa algorithm. This algorithm demonstrated that quantum computers can provide certain advantages as computational tools for particular problems. <br>\n",
    "The problem we are facing here is to determine whether a boolean function is constant or balanced. A function is constant if it returns the same value for all of the inputs, a function is balanced if it returns half of the inputs as 0 and half as 1. <br>\n",
    "The classical solution requires evaluating the function for n inputs to determine whether it is constant or balanced. This takes O(2^(n-1)) time where n is equal to the size of the input. <br>\n",
    "The quantum solution uses the Deustch-Jozsa algorithm, which can solve the problem with just one function evaluation, this takes O(n^2) time.<br><br>\n",
    "It may help to understand the differeneces between the time complexities between these two algorithms. <br>The classical solution, which takes O(2^(n-1)) time, this is known as <b>exponential time</b>. This type of time complexity is known to be very slow and inefficient. This is because for every extra input that the algorithm takes, the time to complete the algorithm doubles from the previous amount of time. In a practical setting, it simply does not make sense to use this type of algorithm unless completely necessary, especially if there are a large amount of inputs.<br>\n",
    "However, in the quantum solution, it takes O(n^2) time. This is known as <b>polynomial time</b>. Polynomial time is a much faster and more efficient time complexity than exponential time and the time it takes grows at a much slower rate. For this type of time complexity, as the input size doubles, the amount of quantum gates required to implement the algorithm increases by a factor of 4. This makes polynomial time magnitudes of times faster than exponential time. <br>\n",
    "I will give you a quick example to explain the difference of magnitude between the two time complexities.\n",
    "Lets consider the size of the input is n = 20. The polynomial time algorithm would take only 400 units of time (20^2), whereas the exponential time algorithm would take around one million units of time (2^20). As you can see, the two time complexities are miles away from eachother in regards to efficiency. \n"
   ]
  },
  {
   "attachments": {},
   "cell_type": "markdown",
   "metadata": {},
   "source": [
    "<h1>\n",
    "Implementation of the Deutsch-Josza Algorithm\n",
    "</h1>"
   ]
  },
  {
   "attachments": {},
   "cell_type": "markdown",
   "metadata": {},
   "source": [
    "<h1>\n",
    "Quantum Limitations\n",
    "</h1>"
   ]
  },
  {
   "cell_type": "code",
   "execution_count": null,
   "metadata": {},
   "outputs": [],
   "source": []
  }
 ],
 "metadata": {
  "kernelspec": {
   "display_name": "Python 3",
   "language": "python",
   "name": "python3"
  },
  "language_info": {
   "codemirror_mode": {
    "name": "ipython",
    "version": 3
   },
   "file_extension": ".py",
   "mimetype": "text/x-python",
   "name": "python",
   "nbconvert_exporter": "python",
   "pygments_lexer": "ipython3",
   "version": "3.9.13"
  },
  "orig_nbformat": 4,
  "vscode": {
   "interpreter": {
    "hash": "5e6e5d4fd3a54b38ed851e4f76fbe6fc723b4ac196b687cee00435a1c00a07ee"
   }
  }
 },
 "nbformat": 4,
 "nbformat_minor": 2
}
