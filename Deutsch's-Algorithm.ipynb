{
 "cells": [
  {
   "attachments": {},
   "cell_type": "markdown",
   "metadata": {},
   "source": [
    "<h1>\n",
    "<b>Quantum Computing and the Deutsch-Jorsza Algorithm</b>\n",
    "</h1>\n",
    "\n"
   ]
  },
  {
   "attachments": {},
   "cell_type": "markdown",
   "metadata": {},
   "source": [
    "<h1>\n",
    "Quantum theory / Quantum computing basics\n",
    "</h1>"
   ]
  },
  {
   "attachments": {},
   "cell_type": "markdown",
   "metadata": {},
   "source": [
    "To understand the Deutscu-Jorsza Algorithm, you will first need to have some understanding of the basics of quantum computing and quantum theory. \n",
    "<b>Quantum theory explains the theory of the behaviour of matter and energy on the atomic and subatomic level.</b> <br>\n",
    "The development of quantum theory was improved on a great deal over the 1900s, with input coming from great scientist such as Planck, Einstein, de Broglie and Heisenberg. One major interpretation that really helps to get a bit of a grasp of quantum theory is the Copenhagen Interpretation and the analogy of Schrodinger's Cat. <br>\n",
    "\n",
    "The Copenhagen Interpretation was proposed by Niels Bohr which states that a particle is whatever its is measured to be(such as a wave or particle), but it cannot be assumed to have specific properties or if it even exists, until it is measured.<br>\n",
    "![Alt text](Pictures/schrodingers_cat.png) <br>\n",
    "A great way to wrap your head around this theory is the somewhat cruel analogy of <b>Schrodinger's Cat</b>. \n",
    "Imagine you have a living cat and harshly put it into a lead box. At this point you know that the cat is still alive as you have just put the cat in. Then imagine you put a vial of poison or cyanide into the box. At this point you cannot be certain if the cat is now alive or dead. Since you are uncertain, the cat is technically in a state of being both alive and dead. This is known as <b>superposition</b>, which you will hear us speak about again. The cat is technically in this state of superposition until someone finally opens the box to observe the cat to see it's fate. This scenario is basically the basis behing quantum physics.\n",
    "\n",
    "\n",
    "Quantum computing is then, an area of computer science that utilizes the principles of quantum theory. Quantum computing uses subatomic particles such as electrons and photons as the building blocks for it's information processing. Specifically, quantum computing uses these particles to represent and manipulate information in the form of quantum bits, or qubits which we will talk about later. <br>\n",
    "It was discovered that quantum algorithms can be more effective than classical algorithms in solving specific computational problems. Quantum computing has the potential to examine vast numbers of possibilities and identify potential solutions to intricate problems and obstacles.\n",
    "\n"
   ]
  },
  {
   "cell_type": "code",
   "execution_count": null,
   "metadata": {},
   "outputs": [],
   "source": [
    "%pip install qiskit"
   ]
  },
  {
   "attachments": {},
   "cell_type": "markdown",
   "metadata": {},
   "source": [
    "<h1>\n",
    "Qubits\n",
    "</h1>"
   ]
  },
  {
   "attachments": {},
   "cell_type": "markdown",
   "metadata": {},
   "source": [
    "<h1>\n",
    "Quantum Gates\n",
    "</h1>"
   ]
  },
  {
   "attachments": {},
   "cell_type": "markdown",
   "metadata": {},
   "source": [
    "<h1>\n",
    "Quantum Circuits\n",
    "</h1>"
   ]
  },
  {
   "attachments": {},
   "cell_type": "markdown",
   "metadata": {},
   "source": [
    "<h1>\n",
    "\n",
    "Deutsch-Josza Algorithm\n",
    "\n",
    "</h1>"
   ]
  },
  {
   "attachments": {},
   "cell_type": "markdown",
   "metadata": {},
   "source": [
    "The first quantum algorithm to outperform the best classical algorithm was the Deustch-Jozsa algorithm. This algorithm demonstrated that quantum computers can provide certain advantages as computational tools for particular problems. <br>\n",
    "The problem we are facing here is to determine whether a boolean function is constant or balanced. A function is constant if it returns the same value for all of the inputs, a function is balanced if it returns half of the inputs as 0 and half as 1. <br>\n",
    "The classical solution requires evaluating the function for n inputs to determine whether it is constant or balanced. This takes O(2^n) time. <br>\n",
    "The quantum solution uses the Deustch-Jozsa algorithm, which can solve the problem with just one function evaluation, this takes O(1) time.\n"
   ]
  },
  {
   "attachments": {},
   "cell_type": "markdown",
   "metadata": {},
   "source": [
    "<h1>\n",
    "Implementation of the Deutsch-Josza Algorithm\n",
    "</h1>"
   ]
  },
  {
   "attachments": {},
   "cell_type": "markdown",
   "metadata": {},
   "source": [
    "<h1>\n",
    "Quantum Limitations\n",
    "</h1>"
   ]
  },
  {
   "cell_type": "code",
   "execution_count": null,
   "metadata": {},
   "outputs": [],
   "source": []
  }
 ],
 "metadata": {
  "kernelspec": {
   "display_name": "Python 3",
   "language": "python",
   "name": "python3"
  },
  "language_info": {
   "codemirror_mode": {
    "name": "ipython",
    "version": 3
   },
   "file_extension": ".py",
   "mimetype": "text/x-python",
   "name": "python",
   "nbconvert_exporter": "python",
   "pygments_lexer": "ipython3",
   "version": "3.9.1"
  },
  "orig_nbformat": 4,
  "vscode": {
   "interpreter": {
    "hash": "5e6e5d4fd3a54b38ed851e4f76fbe6fc723b4ac196b687cee00435a1c00a07ee"
   }
  }
 },
 "nbformat": 4,
 "nbformat_minor": 2
}
